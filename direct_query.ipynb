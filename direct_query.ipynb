{
 "cells": [
  {
   "cell_type": "code",
   "execution_count": 2,
   "metadata": {},
   "outputs": [
    {
     "name": "stdout",
     "output_type": "stream",
     "text": [
      "nohup: ignoring input and redirecting stderr to stdout\n"
     ]
    }
   ],
   "source": [
    "!python run_mia2.py"
   ]
  },
  {
   "attachments": {},
   "cell_type": "markdown",
   "metadata": {},
   "source": [
    "# Analysis"
   ]
  },
  {
   "cell_type": "code",
   "execution_count": 6,
   "metadata": {},
   "outputs": [
    {
     "name": "stdout",
     "output_type": "stream",
     "text": [
      "Accuracy: 75.00%\n",
      "Precision: 0.67\n",
      "Recall: 0.98\n",
      "F1 Score: 0.80\n"
     ]
    }
   ],
   "source": [
    "import json\n",
    "import re\n",
    "from sklearn.metrics import accuracy_score, precision_score, recall_score, f1_score\n",
    "\n",
    "output_dir = 'results/target_docs'\n",
    "output_file = f'{output_dir}/direct_query-nfcorpus-llama3-Top15-M250-N15.json'\n",
    "with open(output_file, 'r') as f:\n",
    "    data = json.load(f)\n",
    "\n",
    "def extract_yes_no(answer):\n",
    "    \"\"\"Extract 'Yes' or 'No' from a response.\"\"\"\n",
    "    match = re.search(r'\\b(Yes|No)\\b', answer, re.IGNORECASE)\n",
    "    return match.group(1).capitalize() if match else \"Invalid\"\n",
    "\n",
    "def load_and_calculate_metrics(data):\n",
    "    expected_answers = []\n",
    "    predicted_answers = []\n",
    "\n",
    "    for doc_id, doc_data in data.items():\n",
    "        expected_answer = \"Yes\" if doc_data[\"mem\"].lower() == \"yes\" else \"No\"\n",
    "        llm_response = extract_yes_no(doc_data[\"llm_responses\"][0])\n",
    "\n",
    "        # Skip invalid responses\n",
    "        if llm_response == \"Invalid\":\n",
    "            continue\n",
    "\n",
    "        expected_answers.append(expected_answer)\n",
    "        predicted_answers.append(llm_response)\n",
    "\n",
    "    # Calculate metrics\n",
    "    accuracy = accuracy_score(expected_answers, predicted_answers) * 100\n",
    "    precision = precision_score(expected_answers, predicted_answers, pos_label=\"Yes\", zero_division=0)\n",
    "    recall = recall_score(expected_answers, predicted_answers, pos_label=\"Yes\", zero_division=0)\n",
    "    f1 = f1_score(expected_answers, predicted_answers, pos_label=\"Yes\", zero_division=0)\n",
    "\n",
    "    return accuracy, precision, recall, f1\n",
    "\n",
    "# Calculate and print metrics\n",
    "accuracy, precision, recall, f1 = load_and_calculate_metrics(data)\n",
    "print(f\"Accuracy: {accuracy:.2f}%\")\n",
    "print(f\"Precision: {precision:.2f}\")\n",
    "print(f\"Recall: {recall:.2f}\")\n",
    "print(f\"F1 Score: {f1:.2f}\")\n"
   ]
  }
 ],
 "metadata": {
  "kernelspec": {
   "display_name": "Python 3",
   "language": "python",
   "name": "python3"
  },
  "language_info": {
   "codemirror_mode": {
    "name": "ipython",
    "version": 3
   },
   "file_extension": ".py",
   "mimetype": "text/x-python",
   "name": "python",
   "nbconvert_exporter": "python",
   "pygments_lexer": "ipython3",
   "version": "3.11.9"
  },
  "orig_nbformat": 4
 },
 "nbformat": 4,
 "nbformat_minor": 2
}
