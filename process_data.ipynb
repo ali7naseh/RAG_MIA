{
 "cells": [
  {
   "cell_type": "code",
   "execution_count": 5,
   "metadata": {},
   "outputs": [
    {
     "name": "stdout",
     "output_type": "stream",
     "text": [
      "/work/yuefengpeng_umass_edu/exp/RAG_MIA/datasets/scifact.zip: 100%|█| 2.69M/2.69\n",
      "Saved 1000 mem and 1000 non-mem indices for scifact in datasets/scifact/selected_indices.json\n"
     ]
    }
   ],
   "source": [
    "!python prepare_dataset.py"
   ]
  },
  {
   "cell_type": "code",
   "execution_count": 1,
   "metadata": {},
   "outputs": [
    {
     "name": "stdout",
     "output_type": "stream",
     "text": [
      "Combined data has been saved to target_doc.json.\n",
      "Selected indices have been saved to selected_indices.json.\n"
     ]
    }
   ],
   "source": [
    "import json\n",
    "\n",
    "dataset = 'trec-covid'\n",
    "data_dir = f'datasets/{dataset}'\n",
    "with open(f'{data_dir}/non_members.json', 'r') as non_mem_file:\n",
    "    non_members_data = json.load(non_mem_file)\n",
    "\n",
    "with open(f'{data_dir}/members.json', 'r') as mem_file:\n",
    "    members_data = json.load(mem_file)\n",
    "\n",
    "# Combine data into a target_doc structure\n",
    "target_doc = {}\n",
    "mem_indices = []\n",
    "nonmem_indices = []\n",
    "\n",
    "for doc_id, mem_entry in members_data.items():\n",
    "    if len(mem_entry.get(\"questions\", [])) == 0:\n",
    "        continue  # Use continue instead of break to skip empty entries\n",
    "    target_doc[doc_id] = {\n",
    "        \"text\": mem_entry.get(\"text\", \"\"),\n",
    "        \"title\": mem_entry.get(\"title\", \"\"),\n",
    "        \"questions\": mem_entry.get(\"questions\", [])\n",
    "    }\n",
    "    mem_indices.append(doc_id)\n",
    "\n",
    "for doc_id, non_mem_entry in non_members_data.items():\n",
    "    if len(non_mem_entry.get(\"questions\", [])) == 0:\n",
    "        continue  # Use continue instead of break to skip empty entries\n",
    "    target_doc[doc_id] = {\n",
    "        \"text\": non_mem_entry.get(\"text\", \"\"),\n",
    "        \"title\": non_mem_entry.get(\"title\", \"\"),\n",
    "        \"questions\": non_mem_entry.get(\"questions\", [])\n",
    "    }\n",
    "    nonmem_indices.append(doc_id)\n",
    "\n",
    "# Save the combined data into a new file\n",
    "with open(f'{data_dir}/clean_data_with_questions.json', 'w') as target_file:\n",
    "    json.dump(target_doc, target_file, indent=2)\n",
    "\n",
    "# Create a map for indices\n",
    "selected_indices = {\n",
    "    \"mem_indices\": mem_indices,\n",
    "    \"nonmem_indices\": nonmem_indices\n",
    "}\n",
    "\n",
    "# Save the map to a separate file\n",
    "with open(f'{data_dir}/selected_indices.json', 'w') as indices_file:\n",
    "    json.dump(selected_indices, indices_file, indent=2)\n",
    "\n",
    "print(\"Combined data has been saved to target_doc.json.\")\n",
    "print(\"Selected indices have been saved to selected_indices.json.\")\n"
   ]
  },
  {
   "cell_type": "code",
   "execution_count": 4,
   "metadata": {},
   "outputs": [
    {
     "name": "stdout",
     "output_type": "stream",
     "text": [
      "Data has been converted from corpus.json to corpus.jsonl.\n"
     ]
    }
   ],
   "source": [
    "import json\n",
    "\n",
    "input_file = 'corpus.json'\n",
    "output_file = 'corpus.jsonl'\n",
    "\n",
    "# Load data from the input JSON file\n",
    "with open(f'{data_dir}/{input_file}', 'r') as json_file:\n",
    "    data = json.load(json_file)\n",
    "\n",
    "# Save data in JSON Lines format\n",
    "with open(f'{data_dir}/{output_file}', 'w') as jsonl_file:\n",
    "    for key, value in data.items():\n",
    "        # Create a new entry with an _id field\n",
    "        entry = {\"_id\": key, **value}\n",
    "        jsonl_file.write(json.dumps(entry) + '\\n')\n",
    "\n",
    "print(f\"Data has been converted from {input_file} to {output_file}.\")\n"
   ]
  }
 ],
 "metadata": {
  "kernelspec": {
   "display_name": "Python 3",
   "language": "python",
   "name": "python3"
  },
  "language_info": {
   "codemirror_mode": {
    "name": "ipython",
    "version": 3
   },
   "file_extension": ".py",
   "mimetype": "text/x-python",
   "name": "python",
   "nbconvert_exporter": "python",
   "pygments_lexer": "ipython3",
   "version": "3.11.9"
  },
  "orig_nbformat": 4
 },
 "nbformat": 4,
 "nbformat_minor": 2
}
